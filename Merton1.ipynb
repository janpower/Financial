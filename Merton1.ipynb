{
 "cells": [
  {
   "cell_type": "markdown",
   "metadata": {},
   "source": [
    "### Morten model calculations\n",
    "\n",
    "The following uses the Morten model to calcultate the total default probability of a company with given asset value and several debts which are to be paid at different times.\n",
    "It calculates the total default probability as a product of individual default probabilities, "
   ]
  },
  {
   "cell_type": "code",
   "execution_count": null,
   "metadata": {},
   "outputs": [
    {
     "name": "stdout",
     "output_type": "stream",
     "text": [
      "Debt\tMaturity\tD1\tD2\tDefault Prob\tEquity Value\tRemaining Assets\n",
      "80\t1\t\t6.5919\t6.2919\t0.000%\t\t449.54\t\t525.64\n",
      "90\t2\t\t4.3362\t3.9119\t0.005%\t\t387.05\t\t468.48\n",
      "100\t3\t\t3.2062\t2.6866\t0.361%\t\t311.86\t\t397.89\n",
      "110\t4\t\t2.3771\t1.7771\t3.778%\t\t223.77\t\t313.16\n",
      "120\t5\t\t1.5675\t0.8967\t18.494%\t\t124.91\t\t213.58\n",
      "\n",
      "Total Default Probability (Adjusted with Growth): 21.8602%\n"
     ]
    }
   ],
   "source": [
    "import numpy as np\n",
    "from scipy.stats import norm\n",
    "\n",
    "def merton_model(V0, D, T, r, sigma):\n",
    "    # Calculates d1, d2, default probability, and equity value for a single debt.\n",
    "    d1 = (np.log(V0 / D) + (r + 0.5 * sigma ** 2) * T) / (sigma * np.sqrt(T))\n",
    "    d2 = d1 - sigma * np.sqrt(T)\n",
    "    default_prob = norm.cdf(-d2)\n",
    "    equity_value = V0 * norm.cdf(d1) - D * np.exp(-r * T) * norm.cdf(d2)\n",
    "    return d1, d2, default_prob, equity_value\n",
    "\n",
    "def sequential_default_probability(V0, debts, maturities, r, sigma):\n",
    "    # Calculates the total default probability considering sequential debt repayment and risk-free growth between maturities.\n",
    "\n",
    "    total_default_prob = 0\n",
    "    remaining_assets = V0\n",
    "    prev_maturity = 0  # To track the last maturity time\n",
    "\n",
    "    print(\"Debt\\tMaturity\\tD1\\tD2\\tDefault Prob\\tEquity Value\\tRemaining Assets\")\n",
    "\n",
    "    # Process debts in the order of maturity\n",
    "    for D, T in sorted(zip(debts, maturities), key=lambda x: x[1]):\n",
    "        # Grow the remaining assets risk-free between maturities\n",
    "        if T > prev_maturity:\n",
    "            growth_period = T - prev_maturity\n",
    "            remaining_assets *= np.exp(r * growth_period)\n",
    "            prev_maturity = T\n",
    "\n",
    "        # If assets are less than debt, the company defaults\n",
    "        if remaining_assets < D:\n",
    "            total_default_prob = 1.0\n",
    "            print(f\"{D}\\t{T}\\t\\tN/A\\t\\tN/A\\t\\t100.00%\\t\\tN/A\\t\\t{remaining_assets:.2f}\")\n",
    "            break\n",
    "\n",
    "        # Calculate the Merton model values\n",
    "        d1, d2, default_prob, equity_value = merton_model(remaining_assets, D, T, r, sigma)\n",
    "        \n",
    "        # Print current debt data\n",
    "        print(f\"{D}\\t{T}\\t\\t{d1:.4f}\\t{d2:.4f}\\t{default_prob:.3%}\\t\\t{equity_value:.2f}\\t\\t{remaining_assets:.2f}\")\n",
    "\n",
    "        # Accumulate default probability\n",
    "        total_default_prob += default_prob * (1 - total_default_prob)\n",
    "        \n",
    "        # Repay the debt and reduce asset value\n",
    "        remaining_assets -= D\n",
    "\n",
    "    print(f\"\\nTotal Default Probability (Adjusted with Growth): {total_default_prob:.4%}\")\n",
    "\n",
    "# Example Parameters\n",
    "V0 = 500  # Initial asset value\n",
    "debts = [80, 90, 100, 110, 120]  # Debt face values\n",
    "maturities = [1, 2, 3, 4, 5]  # Maturity times in years\n",
    "r = 0.05  # Risk-free rate\n",
    "sigma = 0.3  # Volatility\n",
    "\n",
    "sequential_default_probability(V0, debts, maturities, r, sigma)\n"
   ]
  },
  {
   "cell_type": "code",
   "execution_count": null,
   "metadata": {},
   "outputs": [],
   "source": []
  }
 ],
 "metadata": {
  "kernelspec": {
   "display_name": ".venv",
   "language": "python",
   "name": "python3"
  },
  "language_info": {
   "codemirror_mode": {
    "name": "ipython",
    "version": 3
   },
   "file_extension": ".py",
   "mimetype": "text/x-python",
   "name": "python",
   "nbconvert_exporter": "python",
   "pygments_lexer": "ipython3",
   "version": "3.12.3"
  }
 },
 "nbformat": 4,
 "nbformat_minor": 2
}
